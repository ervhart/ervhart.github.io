{
  "nbformat": 4,
  "nbformat_minor": 0,
  "metadata": {
    "colab": {
      "name": "movieproject.ipynb",
      "provenance": [],
      "collapsed_sections": [],
      "authorship_tag": "ABX9TyMYe8gCQegAhDGIfiJyxTeZ",
      "include_colab_link": true
    },
    "kernelspec": {
      "name": "python3",
      "display_name": "Python 3"
    },
    "language_info": {
      "name": "python"
    }
  },
  "cells": [
    {
      "cell_type": "markdown",
      "metadata": {
        "id": "view-in-github",
        "colab_type": "text"
      },
      "source": [
        "<a href=\"https://colab.research.google.com/github/ervhart/ervhart.github.io/blob/main/movieproject.ipynb\" target=\"_parent\"><img src=\"https://colab.research.google.com/assets/colab-badge.svg\" alt=\"Open In Colab\"/></a>"
      ]
    },
    {
      "cell_type": "markdown",
      "metadata": {
        "id": "776cdzHR2JWU"
      },
      "source": [
        ""
      ]
    },
    {
      "cell_type": "markdown",
      "metadata": {
        "id": "5zgicGpM2N1s"
      },
      "source": [
        "Author: Muhydeen Olakunle Adelani\n",
        "Data Source: https://www.kaggle.com/danielgrijalvas/movies\n",
        "Project Purpose: Finding correlation in Python with Movie Industry Data.\n",
        "Tools Used: Python, Python Libraries"
      ]
    },
    {
      "cell_type": "markdown",
      "metadata": {
        "id": "VOXjq9nn3d0-"
      },
      "source": [
        "**Importing Necessary Libraries**"
      ]
    },
    {
      "cell_type": "code",
      "metadata": {
        "id": "lfwF6lYW3ljS"
      },
      "source": [
        "import seaborn as sns\n",
        "import pandas as pd\n",
        "import numpy as np\n",
        "\n",
        "import matplotlib.pyplot as plt\n",
        "import matplotlib.mlab as mlab\n",
        "import matplotlib\n",
        "plt.style.use('ggplot')\n",
        "from matplotlib.pyplot import figure\n",
        "import csv\n",
        "\n",
        "#%matplotlib inline\n",
        "#matplotlib.rcParams['figure.figsize'] = (12,8)\n",
        "\n",
        "#pd.options.mode.chained_assignment = None"
      ],
      "execution_count": 100,
      "outputs": []
    },
    {
      "cell_type": "markdown",
      "metadata": {
        "id": "-Nx5VA2W32aw"
      },
      "source": [
        "**Loading Dataset** "
      ]
    },
    {
      "cell_type": "code",
      "metadata": {
        "colab": {
          "base_uri": "https://localhost:8080/"
        },
        "id": "Jlutis3GCYMa",
        "outputId": "f6e7ac3f-6ec6-4cfd-a750-2fd972c92403"
      },
      "source": [
        "from google.colab import drive\n",
        "drive.mount('/content/drive')"
      ],
      "execution_count": 35,
      "outputs": [
        {
          "output_type": "stream",
          "name": "stdout",
          "text": [
            "Mounted at /content/drive\n"
          ]
        }
      ]
    },
    {
      "cell_type": "code",
      "metadata": {
        "id": "uIaPSTqcDDkj"
      },
      "source": [
        "data = pd.read_csv('/content/drive/MyDrive/data/movies.csv')"
      ],
      "execution_count": 36,
      "outputs": []
    },
    {
      "cell_type": "code",
      "metadata": {
        "colab": {
          "base_uri": "https://localhost:8080/",
          "height": 806
        },
        "id": "ZEUE1VnbDM1E",
        "outputId": "89250958-3e53-433b-a761-db070f41f4c0"
      },
      "source": [
        "data.head(100)"
      ],
      "execution_count": 66,
      "outputs": [
        {
          "output_type": "execute_result",
          "data": {
            "text/html": [
              "<div>\n",
              "<style scoped>\n",
              "    .dataframe tbody tr th:only-of-type {\n",
              "        vertical-align: middle;\n",
              "    }\n",
              "\n",
              "    .dataframe tbody tr th {\n",
              "        vertical-align: top;\n",
              "    }\n",
              "\n",
              "    .dataframe thead th {\n",
              "        text-align: right;\n",
              "    }\n",
              "</style>\n",
              "<table border=\"1\" class=\"dataframe\">\n",
              "  <thead>\n",
              "    <tr style=\"text-align: right;\">\n",
              "      <th></th>\n",
              "      <th>name</th>\n",
              "      <th>rating</th>\n",
              "      <th>genre</th>\n",
              "      <th>year</th>\n",
              "      <th>released</th>\n",
              "      <th>score</th>\n",
              "      <th>votes</th>\n",
              "      <th>director</th>\n",
              "      <th>writer</th>\n",
              "      <th>star</th>\n",
              "      <th>country</th>\n",
              "      <th>budget</th>\n",
              "      <th>gross</th>\n",
              "      <th>company</th>\n",
              "      <th>runtime</th>\n",
              "    </tr>\n",
              "  </thead>\n",
              "  <tbody>\n",
              "    <tr>\n",
              "      <th>0</th>\n",
              "      <td>The Shining</td>\n",
              "      <td>R</td>\n",
              "      <td>Drama</td>\n",
              "      <td>1980</td>\n",
              "      <td>June 13, 1980 (United States)</td>\n",
              "      <td>8</td>\n",
              "      <td>927000</td>\n",
              "      <td>Stanley Kubrick</td>\n",
              "      <td>Stephen King</td>\n",
              "      <td>Jack Nicholson</td>\n",
              "      <td>United Kingdom</td>\n",
              "      <td>19000000</td>\n",
              "      <td>46998772</td>\n",
              "      <td>Warner Bros.</td>\n",
              "      <td>146.0</td>\n",
              "    </tr>\n",
              "    <tr>\n",
              "      <th>1</th>\n",
              "      <td>The Blue Lagoon</td>\n",
              "      <td>R</td>\n",
              "      <td>Adventure</td>\n",
              "      <td>1980</td>\n",
              "      <td>July 2, 1980 (United States)</td>\n",
              "      <td>5</td>\n",
              "      <td>65000</td>\n",
              "      <td>Randal Kleiser</td>\n",
              "      <td>Henry De Vere Stacpoole</td>\n",
              "      <td>Brooke Shields</td>\n",
              "      <td>United States</td>\n",
              "      <td>4500000</td>\n",
              "      <td>58853106</td>\n",
              "      <td>Columbia Pictures</td>\n",
              "      <td>104.0</td>\n",
              "    </tr>\n",
              "    <tr>\n",
              "      <th>2</th>\n",
              "      <td>Star Wars: Episode V - The Empire Strikes Back</td>\n",
              "      <td>PG</td>\n",
              "      <td>Action</td>\n",
              "      <td>1980</td>\n",
              "      <td>June 20, 1980 (United States)</td>\n",
              "      <td>8</td>\n",
              "      <td>1200000</td>\n",
              "      <td>Irvin Kershner</td>\n",
              "      <td>Leigh Brackett</td>\n",
              "      <td>Mark Hamill</td>\n",
              "      <td>United States</td>\n",
              "      <td>18000000</td>\n",
              "      <td>538375067</td>\n",
              "      <td>Lucasfilm</td>\n",
              "      <td>124.0</td>\n",
              "    </tr>\n",
              "    <tr>\n",
              "      <th>3</th>\n",
              "      <td>Airplane!</td>\n",
              "      <td>PG</td>\n",
              "      <td>Comedy</td>\n",
              "      <td>1980</td>\n",
              "      <td>July 2, 1980 (United States)</td>\n",
              "      <td>7</td>\n",
              "      <td>221000</td>\n",
              "      <td>Jim Abrahams</td>\n",
              "      <td>Jim Abrahams</td>\n",
              "      <td>Robert Hays</td>\n",
              "      <td>United States</td>\n",
              "      <td>3500000</td>\n",
              "      <td>83453539</td>\n",
              "      <td>Paramount Pictures</td>\n",
              "      <td>88.0</td>\n",
              "    </tr>\n",
              "    <tr>\n",
              "      <th>4</th>\n",
              "      <td>Caddyshack</td>\n",
              "      <td>R</td>\n",
              "      <td>Comedy</td>\n",
              "      <td>1980</td>\n",
              "      <td>July 25, 1980 (United States)</td>\n",
              "      <td>7</td>\n",
              "      <td>108000</td>\n",
              "      <td>Harold Ramis</td>\n",
              "      <td>Brian Doyle-Murray</td>\n",
              "      <td>Chevy Chase</td>\n",
              "      <td>United States</td>\n",
              "      <td>6000000</td>\n",
              "      <td>39846344</td>\n",
              "      <td>Orion Pictures</td>\n",
              "      <td>98.0</td>\n",
              "    </tr>\n",
              "    <tr>\n",
              "      <th>...</th>\n",
              "      <td>...</td>\n",
              "      <td>...</td>\n",
              "      <td>...</td>\n",
              "      <td>...</td>\n",
              "      <td>...</td>\n",
              "      <td>...</td>\n",
              "      <td>...</td>\n",
              "      <td>...</td>\n",
              "      <td>...</td>\n",
              "      <td>...</td>\n",
              "      <td>...</td>\n",
              "      <td>...</td>\n",
              "      <td>...</td>\n",
              "      <td>...</td>\n",
              "      <td>...</td>\n",
              "    </tr>\n",
              "    <tr>\n",
              "      <th>187</th>\n",
              "      <td>Take This Job and Shove It</td>\n",
              "      <td>PG</td>\n",
              "      <td>Comedy</td>\n",
              "      <td>1981</td>\n",
              "      <td>May 15, 1981 (United States)</td>\n",
              "      <td>5</td>\n",
              "      <td>761</td>\n",
              "      <td>Gus Trikonis</td>\n",
              "      <td>Barry Schneider</td>\n",
              "      <td>Robert Hays</td>\n",
              "      <td>United States</td>\n",
              "      <td>3500000</td>\n",
              "      <td>17569027</td>\n",
              "      <td>Cinema Group Ventures</td>\n",
              "      <td>100.0</td>\n",
              "    </tr>\n",
              "    <tr>\n",
              "      <th>189</th>\n",
              "      <td>Whose Life Is It Anyway?</td>\n",
              "      <td>R</td>\n",
              "      <td>Comedy</td>\n",
              "      <td>1981</td>\n",
              "      <td>January 22, 1982 (United States)</td>\n",
              "      <td>7</td>\n",
              "      <td>2700</td>\n",
              "      <td>John Badham</td>\n",
              "      <td>Brian Clark</td>\n",
              "      <td>Richard Dreyfuss</td>\n",
              "      <td>United States</td>\n",
              "      <td>13000000</td>\n",
              "      <td>8206145</td>\n",
              "      <td>Metro-Goldwyn-Mayer (MGM)</td>\n",
              "      <td>119.0</td>\n",
              "    </tr>\n",
              "    <tr>\n",
              "      <th>190</th>\n",
              "      <td>Inchon</td>\n",
              "      <td>PG</td>\n",
              "      <td>Drama</td>\n",
              "      <td>1981</td>\n",
              "      <td>September 17, 1982 (United States)</td>\n",
              "      <td>2</td>\n",
              "      <td>659</td>\n",
              "      <td>Terence Young</td>\n",
              "      <td>Robin Moore</td>\n",
              "      <td>Laurence Olivier</td>\n",
              "      <td>South Korea</td>\n",
              "      <td>46000000</td>\n",
              "      <td>5200986</td>\n",
              "      <td>One Way Productions</td>\n",
              "      <td>140.0</td>\n",
              "    </tr>\n",
              "    <tr>\n",
              "      <th>191</th>\n",
              "      <td>All Night Long</td>\n",
              "      <td>R</td>\n",
              "      <td>Comedy</td>\n",
              "      <td>1981</td>\n",
              "      <td>March 6, 1981 (United States)</td>\n",
              "      <td>5</td>\n",
              "      <td>1700</td>\n",
              "      <td>Jean-Claude Tramont</td>\n",
              "      <td>W.D. Richter</td>\n",
              "      <td>Gene Hackman</td>\n",
              "      <td>United States</td>\n",
              "      <td>14000000</td>\n",
              "      <td>4454295</td>\n",
              "      <td>Universal Pictures</td>\n",
              "      <td>87.0</td>\n",
              "    </tr>\n",
              "    <tr>\n",
              "      <th>192</th>\n",
              "      <td>The Pursuit of D.B. Cooper</td>\n",
              "      <td>PG</td>\n",
              "      <td>Adventure</td>\n",
              "      <td>1981</td>\n",
              "      <td>November 13, 1981 (United States)</td>\n",
              "      <td>5</td>\n",
              "      <td>1100</td>\n",
              "      <td>Roger Spottiswoode</td>\n",
              "      <td>J.D. Reed</td>\n",
              "      <td>Robert Duvall</td>\n",
              "      <td>United States</td>\n",
              "      <td>12000000</td>\n",
              "      <td>3702028</td>\n",
              "      <td>PolyGram Pictures</td>\n",
              "      <td>100.0</td>\n",
              "    </tr>\n",
              "  </tbody>\n",
              "</table>\n",
              "<p>100 rows × 15 columns</p>\n",
              "</div>"
            ],
            "text/plain": [
              "                                               name  ... runtime\n",
              "0                                       The Shining  ...   146.0\n",
              "1                                   The Blue Lagoon  ...   104.0\n",
              "2    Star Wars: Episode V - The Empire Strikes Back  ...   124.0\n",
              "3                                         Airplane!  ...    88.0\n",
              "4                                        Caddyshack  ...    98.0\n",
              "..                                              ...  ...     ...\n",
              "187                      Take This Job and Shove It  ...   100.0\n",
              "189                        Whose Life Is It Anyway?  ...   119.0\n",
              "190                                          Inchon  ...   140.0\n",
              "191                                  All Night Long  ...    87.0\n",
              "192                      The Pursuit of D.B. Cooper  ...   100.0\n",
              "\n",
              "[100 rows x 15 columns]"
            ]
          },
          "metadata": {},
          "execution_count": 66
        }
      ]
    },
    {
      "cell_type": "markdown",
      "metadata": {
        "id": "wqgoqTPLDjPK"
      },
      "source": [
        "**Data Exploration and Cleaning**"
      ]
    },
    {
      "cell_type": "markdown",
      "metadata": {
        "id": "K4H6EsD0S7Eq"
      },
      "source": [
        "Checking for Not Available Number(NAN) in the datasets "
      ]
    },
    {
      "cell_type": "code",
      "metadata": {
        "colab": {
          "base_uri": "https://localhost:8080/"
        },
        "id": "EamXIVYSSjkd",
        "outputId": "25f647cf-2dcb-4507-9354-27ab3b3f8781"
      },
      "source": [
        "data.isna().sum()"
      ],
      "execution_count": 58,
      "outputs": [
        {
          "output_type": "execute_result",
          "data": {
            "text/plain": [
              "name           0\n",
              "rating        77\n",
              "genre          0\n",
              "year           0\n",
              "released       2\n",
              "score          3\n",
              "votes          3\n",
              "director       0\n",
              "writer         3\n",
              "star           1\n",
              "country        3\n",
              "budget      2171\n",
              "gross        189\n",
              "company       17\n",
              "runtime        4\n",
              "dtype: int64"
            ]
          },
          "metadata": {},
          "execution_count": 58
        }
      ]
    },
    {
      "cell_type": "markdown",
      "metadata": {
        "id": "H4Idib8cTDIk"
      },
      "source": [
        "Dropping the NAN datasets from the table"
      ]
    },
    {
      "cell_type": "code",
      "metadata": {
        "id": "d-wpua0LSvix"
      },
      "source": [
        "data.dropna(axis=0,inplace=True)"
      ],
      "execution_count": 59,
      "outputs": []
    },
    {
      "cell_type": "markdown",
      "metadata": {
        "id": "jYg6tkRmTHwj"
      },
      "source": [
        "Checking again that the NAN datasets dropped"
      ]
    },
    {
      "cell_type": "code",
      "metadata": {
        "colab": {
          "base_uri": "https://localhost:8080/"
        },
        "id": "mHkdEapkSy2S",
        "outputId": "e4178683-8ae8-4049-d2fe-74e786f0ce78"
      },
      "source": [
        "data.isna().sum()"
      ],
      "execution_count": 60,
      "outputs": [
        {
          "output_type": "execute_result",
          "data": {
            "text/plain": [
              "name        0\n",
              "rating      0\n",
              "genre       0\n",
              "year        0\n",
              "released    0\n",
              "score       0\n",
              "votes       0\n",
              "director    0\n",
              "writer      0\n",
              "star        0\n",
              "country     0\n",
              "budget      0\n",
              "gross       0\n",
              "company     0\n",
              "runtime     0\n",
              "dtype: int64"
            ]
          },
          "metadata": {},
          "execution_count": 60
        }
      ]
    },
    {
      "cell_type": "markdown",
      "metadata": {
        "id": "Yo2RReJATRXE"
      },
      "source": [
        "The data is clean now."
      ]
    },
    {
      "cell_type": "markdown",
      "metadata": {
        "id": "sGLdf5vATUtZ"
      },
      "source": [
        "Checking if there is missing value again to ascertain the data is clean using percentage approach"
      ]
    },
    {
      "cell_type": "code",
      "metadata": {
        "colab": {
          "base_uri": "https://localhost:8080/"
        },
        "id": "QXWbKI1iDuWN",
        "outputId": "3196ab2e-deca-4c55-f5d3-605f0d420701"
      },
      "source": [
        "for colum in data.columns:\n",
        "    percent_missing = np.mean(data[colum].isnull())\n",
        "    print('{} - {}%'.format(colum, round(percent_missing*100)))"
      ],
      "execution_count": 61,
      "outputs": [
        {
          "output_type": "stream",
          "name": "stdout",
          "text": [
            "name - 0%\n",
            "rating - 0%\n",
            "genre - 0%\n",
            "year - 0%\n",
            "released - 0%\n",
            "score - 0%\n",
            "votes - 0%\n",
            "director - 0%\n",
            "writer - 0%\n",
            "star - 0%\n",
            "country - 0%\n",
            "budget - 0%\n",
            "gross - 0%\n",
            "company - 0%\n",
            "runtime - 0%\n"
          ]
        }
      ]
    },
    {
      "cell_type": "markdown",
      "metadata": {
        "id": "nr_7XfJOGlnu"
      },
      "source": [
        "**Checking the column data types**"
      ]
    },
    {
      "cell_type": "code",
      "metadata": {
        "colab": {
          "base_uri": "https://localhost:8080/"
        },
        "id": "pvjjjDBeGqRd",
        "outputId": "62d56693-3e04-4083-f0e5-3ff06ad9ef83"
      },
      "source": [
        "print(data.dtypes)"
      ],
      "execution_count": 62,
      "outputs": [
        {
          "output_type": "stream",
          "name": "stdout",
          "text": [
            "name         object\n",
            "rating       object\n",
            "genre        object\n",
            "year          int64\n",
            "released     object\n",
            "score       float64\n",
            "votes       float64\n",
            "director     object\n",
            "writer       object\n",
            "star         object\n",
            "country      object\n",
            "budget      float64\n",
            "gross       float64\n",
            "company      object\n",
            "runtime     float64\n",
            "dtype: object\n"
          ]
        }
      ]
    },
    {
      "cell_type": "markdown",
      "metadata": {
        "id": "-thTFwiwI8_2"
      },
      "source": [
        "**Changing the data type columns for score, votes, budget and gross from float to integer**"
      ]
    },
    {
      "cell_type": "code",
      "metadata": {
        "id": "wqzszVDOJGUY"
      },
      "source": [
        "data['score']=data['score'].astype('int64')\n",
        "data['votes']=data['votes'].astype('int64')\n",
        "data['budget'] = data['budget'].astype('int64')\n",
        "data['gross'] = data['gross'].astype('int64')"
      ],
      "execution_count": 64,
      "outputs": []
    },
    {
      "cell_type": "markdown",
      "metadata": {
        "id": "VoTNMavWT8lZ"
      },
      "source": [
        "Checking that the conversion is done"
      ]
    },
    {
      "cell_type": "code",
      "metadata": {
        "colab": {
          "base_uri": "https://localhost:8080/"
        },
        "id": "ymlIKQm8UAgc",
        "outputId": "a926dfa5-066b-4a86-c0a1-efb04c3e2061"
      },
      "source": [
        "print(data.dtypes)"
      ],
      "execution_count": 65,
      "outputs": [
        {
          "output_type": "stream",
          "name": "stdout",
          "text": [
            "name         object\n",
            "rating       object\n",
            "genre        object\n",
            "year          int64\n",
            "released     object\n",
            "score         int64\n",
            "votes         int64\n",
            "director     object\n",
            "writer       object\n",
            "star         object\n",
            "country      object\n",
            "budget        int64\n",
            "gross         int64\n",
            "company      object\n",
            "runtime     float64\n",
            "dtype: object\n"
          ]
        }
      ]
    },
    {
      "cell_type": "markdown",
      "metadata": {
        "id": "xvCRDAVjW26U"
      },
      "source": [
        "Group the data by gross"
      ]
    },
    {
      "cell_type": "code",
      "metadata": {
        "colab": {
          "base_uri": "https://localhost:8080/",
          "height": 806
        },
        "id": "7FN_-2dZW7XS",
        "outputId": "89a78232-0817-452d-80a7-49fe5230b38b"
      },
      "source": [
        "data.sort_values(by=['gross'],inplace=False, ascending=False)"
      ],
      "execution_count": 69,
      "outputs": [
        {
          "output_type": "execute_result",
          "data": {
            "text/html": [
              "<div>\n",
              "<style scoped>\n",
              "    .dataframe tbody tr th:only-of-type {\n",
              "        vertical-align: middle;\n",
              "    }\n",
              "\n",
              "    .dataframe tbody tr th {\n",
              "        vertical-align: top;\n",
              "    }\n",
              "\n",
              "    .dataframe thead th {\n",
              "        text-align: right;\n",
              "    }\n",
              "</style>\n",
              "<table border=\"1\" class=\"dataframe\">\n",
              "  <thead>\n",
              "    <tr style=\"text-align: right;\">\n",
              "      <th></th>\n",
              "      <th>name</th>\n",
              "      <th>rating</th>\n",
              "      <th>genre</th>\n",
              "      <th>year</th>\n",
              "      <th>released</th>\n",
              "      <th>score</th>\n",
              "      <th>votes</th>\n",
              "      <th>director</th>\n",
              "      <th>writer</th>\n",
              "      <th>star</th>\n",
              "      <th>country</th>\n",
              "      <th>budget</th>\n",
              "      <th>gross</th>\n",
              "      <th>company</th>\n",
              "      <th>runtime</th>\n",
              "    </tr>\n",
              "  </thead>\n",
              "  <tbody>\n",
              "    <tr>\n",
              "      <th>5445</th>\n",
              "      <td>Avatar</td>\n",
              "      <td>PG-13</td>\n",
              "      <td>Action</td>\n",
              "      <td>2009</td>\n",
              "      <td>December 18, 2009 (United States)</td>\n",
              "      <td>7</td>\n",
              "      <td>1100000</td>\n",
              "      <td>James Cameron</td>\n",
              "      <td>James Cameron</td>\n",
              "      <td>Sam Worthington</td>\n",
              "      <td>United States</td>\n",
              "      <td>237000000</td>\n",
              "      <td>2847246203</td>\n",
              "      <td>Twentieth Century Fox</td>\n",
              "      <td>162.0</td>\n",
              "    </tr>\n",
              "    <tr>\n",
              "      <th>7445</th>\n",
              "      <td>Avengers: Endgame</td>\n",
              "      <td>PG-13</td>\n",
              "      <td>Action</td>\n",
              "      <td>2019</td>\n",
              "      <td>April 26, 2019 (United States)</td>\n",
              "      <td>8</td>\n",
              "      <td>903000</td>\n",
              "      <td>Anthony Russo</td>\n",
              "      <td>Christopher Markus</td>\n",
              "      <td>Robert Downey Jr.</td>\n",
              "      <td>United States</td>\n",
              "      <td>356000000</td>\n",
              "      <td>2797501328</td>\n",
              "      <td>Marvel Studios</td>\n",
              "      <td>181.0</td>\n",
              "    </tr>\n",
              "    <tr>\n",
              "      <th>3045</th>\n",
              "      <td>Titanic</td>\n",
              "      <td>PG-13</td>\n",
              "      <td>Drama</td>\n",
              "      <td>1997</td>\n",
              "      <td>December 19, 1997 (United States)</td>\n",
              "      <td>7</td>\n",
              "      <td>1100000</td>\n",
              "      <td>James Cameron</td>\n",
              "      <td>James Cameron</td>\n",
              "      <td>Leonardo DiCaprio</td>\n",
              "      <td>United States</td>\n",
              "      <td>200000000</td>\n",
              "      <td>2201647264</td>\n",
              "      <td>Twentieth Century Fox</td>\n",
              "      <td>194.0</td>\n",
              "    </tr>\n",
              "    <tr>\n",
              "      <th>6663</th>\n",
              "      <td>Star Wars: Episode VII - The Force Awakens</td>\n",
              "      <td>PG-13</td>\n",
              "      <td>Action</td>\n",
              "      <td>2015</td>\n",
              "      <td>December 18, 2015 (United States)</td>\n",
              "      <td>7</td>\n",
              "      <td>876000</td>\n",
              "      <td>J.J. Abrams</td>\n",
              "      <td>Lawrence Kasdan</td>\n",
              "      <td>Daisy Ridley</td>\n",
              "      <td>United States</td>\n",
              "      <td>245000000</td>\n",
              "      <td>2069521700</td>\n",
              "      <td>Lucasfilm</td>\n",
              "      <td>138.0</td>\n",
              "    </tr>\n",
              "    <tr>\n",
              "      <th>7244</th>\n",
              "      <td>Avengers: Infinity War</td>\n",
              "      <td>PG-13</td>\n",
              "      <td>Action</td>\n",
              "      <td>2018</td>\n",
              "      <td>April 27, 2018 (United States)</td>\n",
              "      <td>8</td>\n",
              "      <td>897000</td>\n",
              "      <td>Anthony Russo</td>\n",
              "      <td>Christopher Markus</td>\n",
              "      <td>Robert Downey Jr.</td>\n",
              "      <td>United States</td>\n",
              "      <td>321000000</td>\n",
              "      <td>2048359754</td>\n",
              "      <td>Marvel Studios</td>\n",
              "      <td>149.0</td>\n",
              "    </tr>\n",
              "    <tr>\n",
              "      <th>...</th>\n",
              "      <td>...</td>\n",
              "      <td>...</td>\n",
              "      <td>...</td>\n",
              "      <td>...</td>\n",
              "      <td>...</td>\n",
              "      <td>...</td>\n",
              "      <td>...</td>\n",
              "      <td>...</td>\n",
              "      <td>...</td>\n",
              "      <td>...</td>\n",
              "      <td>...</td>\n",
              "      <td>...</td>\n",
              "      <td>...</td>\n",
              "      <td>...</td>\n",
              "      <td>...</td>\n",
              "    </tr>\n",
              "    <tr>\n",
              "      <th>5640</th>\n",
              "      <td>Tanner Hall</td>\n",
              "      <td>R</td>\n",
              "      <td>Drama</td>\n",
              "      <td>2009</td>\n",
              "      <td>January 15, 2015 (Sweden)</td>\n",
              "      <td>5</td>\n",
              "      <td>3500</td>\n",
              "      <td>Francesca Gregorini</td>\n",
              "      <td>Tatiana von Fürstenberg</td>\n",
              "      <td>Rooney Mara</td>\n",
              "      <td>United States</td>\n",
              "      <td>3000000</td>\n",
              "      <td>5073</td>\n",
              "      <td>Two Prong Lesson</td>\n",
              "      <td>96.0</td>\n",
              "    </tr>\n",
              "    <tr>\n",
              "      <th>2434</th>\n",
              "      <td>Philadelphia Experiment II</td>\n",
              "      <td>PG-13</td>\n",
              "      <td>Action</td>\n",
              "      <td>1993</td>\n",
              "      <td>June 4, 1994 (South Korea)</td>\n",
              "      <td>4</td>\n",
              "      <td>1900</td>\n",
              "      <td>Stephen Cornwell</td>\n",
              "      <td>Wallace C. Bennett</td>\n",
              "      <td>Brad Johnson</td>\n",
              "      <td>United States</td>\n",
              "      <td>5000000</td>\n",
              "      <td>2970</td>\n",
              "      <td>Trimark Pictures</td>\n",
              "      <td>97.0</td>\n",
              "    </tr>\n",
              "    <tr>\n",
              "      <th>3681</th>\n",
              "      <td>Ginger Snaps</td>\n",
              "      <td>Not Rated</td>\n",
              "      <td>Drama</td>\n",
              "      <td>2000</td>\n",
              "      <td>May 11, 2001 (Canada)</td>\n",
              "      <td>6</td>\n",
              "      <td>43000</td>\n",
              "      <td>John Fawcett</td>\n",
              "      <td>Karen Walton</td>\n",
              "      <td>Emily Perkins</td>\n",
              "      <td>Canada</td>\n",
              "      <td>5000000</td>\n",
              "      <td>2554</td>\n",
              "      <td>Copperheart Entertainment</td>\n",
              "      <td>108.0</td>\n",
              "    </tr>\n",
              "    <tr>\n",
              "      <th>272</th>\n",
              "      <td>Parasite</td>\n",
              "      <td>R</td>\n",
              "      <td>Horror</td>\n",
              "      <td>1982</td>\n",
              "      <td>March 12, 1982 (United States)</td>\n",
              "      <td>3</td>\n",
              "      <td>2300</td>\n",
              "      <td>Charles Band</td>\n",
              "      <td>Alan J. Adler</td>\n",
              "      <td>Robert Glaudini</td>\n",
              "      <td>United States</td>\n",
              "      <td>800000</td>\n",
              "      <td>2270</td>\n",
              "      <td>Embassy Pictures</td>\n",
              "      <td>85.0</td>\n",
              "    </tr>\n",
              "    <tr>\n",
              "      <th>3203</th>\n",
              "      <td>Trojan War</td>\n",
              "      <td>PG-13</td>\n",
              "      <td>Comedy</td>\n",
              "      <td>1997</td>\n",
              "      <td>October 1, 1997 (Brazil)</td>\n",
              "      <td>5</td>\n",
              "      <td>5800</td>\n",
              "      <td>George Huang</td>\n",
              "      <td>Andy Burg</td>\n",
              "      <td>Will Friedle</td>\n",
              "      <td>United States</td>\n",
              "      <td>15000000</td>\n",
              "      <td>309</td>\n",
              "      <td>Daybreak</td>\n",
              "      <td>85.0</td>\n",
              "    </tr>\n",
              "  </tbody>\n",
              "</table>\n",
              "<p>5421 rows × 15 columns</p>\n",
              "</div>"
            ],
            "text/plain": [
              "                                            name  ... runtime\n",
              "5445                                      Avatar  ...   162.0\n",
              "7445                           Avengers: Endgame  ...   181.0\n",
              "3045                                     Titanic  ...   194.0\n",
              "6663  Star Wars: Episode VII - The Force Awakens  ...   138.0\n",
              "7244                      Avengers: Infinity War  ...   149.0\n",
              "...                                          ...  ...     ...\n",
              "5640                                 Tanner Hall  ...    96.0\n",
              "2434                  Philadelphia Experiment II  ...    97.0\n",
              "3681                                Ginger Snaps  ...   108.0\n",
              "272                                     Parasite  ...    85.0\n",
              "3203                                  Trojan War  ...    85.0\n",
              "\n",
              "[5421 rows x 15 columns]"
            ]
          },
          "metadata": {},
          "execution_count": 69
        }
      ]
    },
    {
      "cell_type": "markdown",
      "metadata": {
        "id": "2UjypRuMev-5"
      },
      "source": [
        "**Checking for correlation using budget, company and gross columns by making use of scatter plot, seaborn**"
      ]
    },
    {
      "cell_type": "code",
      "metadata": {
        "colab": {
          "base_uri": "https://localhost:8080/",
          "height": 517
        },
        "id": "E0tNfhDqe8bB",
        "outputId": "cf2a0eff-97c4-4ba5-f814-318c49535813"
      },
      "source": [
        "#Scatter plot of budget with gross\n",
        "plt.scatter(x=data['budget'],y=data['gross'])\n",
        "plt.title('Budget versus Gross Earn')\n",
        "plt.xlabel('Gross Earn')\n",
        "plt.ylabel('Budget')\n",
        "plt.show()"
      ],
      "execution_count": 91,
      "outputs": [
        {
          "output_type": "display_data",
          "data": {
            "image/png": "[encoded data removed]",
            "text/plain": [
              "<Figure size 864x576 with 1 Axes>"
            ]
          },
          "metadata": {
            "needs_background": "light"
          }
        }
      ]
    },
    {
      "cell_type": "code",
      "metadata": {
        "colab": {
          "base_uri": "https://localhost:8080/",
          "height": 528
        },
        "id": "PmHEB1kuf5Se",
        "outputId": "e2a83167-6b24-42c3-d3ef-88e0fc9150d4"
      },
      "source": [
        "sns.regplot(x=\"gross\", y=\"budget\", data=data, scatter_kws={\"color\":\"red\"}, line_kws={\"color\":\"green\"})"
      ],
      "execution_count": 94,
      "outputs": [
        {
          "output_type": "execute_result",
          "data": {
            "text/plain": [
              "<matplotlib.axes._subplots.AxesSubplot at 0x7f62204e4f10>"
            ]
          },
          "metadata": {},
          "execution_count": 94
        },
        {
          "output_type": "display_data",
          "data": {
            "image/png": "[encoded data removed]",
            "text/plain": [
              "<Figure size 864x576 with 1 Axes>"
            ]
          },
          "metadata": {
            "needs_background": "light"
          }
        }
      ]
    },
    {
      "cell_type": "markdown",
      "metadata": {
        "id": "pPqh4WPohewX"
      },
      "source": [
        "**Checking for correlation in the table. Note: It will only work for numeric columns in the table**"
      ]
    },
    {
      "cell_type": "code",
      "metadata": {
        "colab": {
          "base_uri": "https://localhost:8080/",
          "height": 238
        },
        "id": "s72Yzc3lhqeb",
        "outputId": "906e9ef0-2243-4de7-d454-f75b703991de"
      },
      "source": [
        "data.corr()"
      ],
      "execution_count": 95,
      "outputs": [
        {
          "output_type": "execute_result",
          "data": {
            "text/html": [
              "<div>\n",
              "<style scoped>\n",
              "    .dataframe tbody tr th:only-of-type {\n",
              "        vertical-align: middle;\n",
              "    }\n",
              "\n",
              "    .dataframe tbody tr th {\n",
              "        vertical-align: top;\n",
              "    }\n",
              "\n",
              "    .dataframe thead th {\n",
              "        text-align: right;\n",
              "    }\n",
              "</style>\n",
              "<table border=\"1\" class=\"dataframe\">\n",
              "  <thead>\n",
              "    <tr style=\"text-align: right;\">\n",
              "      <th></th>\n",
              "      <th>year</th>\n",
              "      <th>score</th>\n",
              "      <th>votes</th>\n",
              "      <th>budget</th>\n",
              "      <th>gross</th>\n",
              "      <th>runtime</th>\n",
              "    </tr>\n",
              "  </thead>\n",
              "  <tbody>\n",
              "    <tr>\n",
              "      <th>year</th>\n",
              "      <td>1.000000</td>\n",
              "      <td>0.057013</td>\n",
              "      <td>0.206021</td>\n",
              "      <td>0.327722</td>\n",
              "      <td>0.274321</td>\n",
              "      <td>0.075077</td>\n",
              "    </tr>\n",
              "    <tr>\n",
              "      <th>score</th>\n",
              "      <td>0.057013</td>\n",
              "      <td>1.000000</td>\n",
              "      <td>0.455808</td>\n",
              "      <td>0.066443</td>\n",
              "      <td>0.211973</td>\n",
              "      <td>0.394589</td>\n",
              "    </tr>\n",
              "    <tr>\n",
              "      <th>votes</th>\n",
              "      <td>0.206021</td>\n",
              "      <td>0.455808</td>\n",
              "      <td>1.000000</td>\n",
              "      <td>0.439675</td>\n",
              "      <td>0.614751</td>\n",
              "      <td>0.352303</td>\n",
              "    </tr>\n",
              "    <tr>\n",
              "      <th>budget</th>\n",
              "      <td>0.327722</td>\n",
              "      <td>0.066443</td>\n",
              "      <td>0.439675</td>\n",
              "      <td>1.000000</td>\n",
              "      <td>0.740247</td>\n",
              "      <td>0.318695</td>\n",
              "    </tr>\n",
              "    <tr>\n",
              "      <th>gross</th>\n",
              "      <td>0.274321</td>\n",
              "      <td>0.211973</td>\n",
              "      <td>0.614751</td>\n",
              "      <td>0.740247</td>\n",
              "      <td>1.000000</td>\n",
              "      <td>0.275796</td>\n",
              "    </tr>\n",
              "    <tr>\n",
              "      <th>runtime</th>\n",
              "      <td>0.075077</td>\n",
              "      <td>0.394589</td>\n",
              "      <td>0.352303</td>\n",
              "      <td>0.318695</td>\n",
              "      <td>0.275796</td>\n",
              "      <td>1.000000</td>\n",
              "    </tr>\n",
              "  </tbody>\n",
              "</table>\n",
              "</div>"
            ],
            "text/plain": [
              "             year     score     votes    budget     gross   runtime\n",
              "year     1.000000  0.057013  0.206021  0.327722  0.274321  0.075077\n",
              "score    0.057013  1.000000  0.455808  0.066443  0.211973  0.394589\n",
              "votes    0.206021  0.455808  1.000000  0.439675  0.614751  0.352303\n",
              "budget   0.327722  0.066443  0.439675  1.000000  0.740247  0.318695\n",
              "gross    0.274321  0.211973  0.614751  0.740247  1.000000  0.275796\n",
              "runtime  0.075077  0.394589  0.352303  0.318695  0.275796  1.000000"
            ]
          },
          "metadata": {},
          "execution_count": 95
        }
      ]
    },
    {
      "cell_type": "markdown",
      "metadata": {
        "id": "84nwL01YcUia"
      },
      "source": [
        "**Correlation Matrix between all numeric columns**"
      ]
    },
    {
      "cell_type": "code",
      "metadata": {
        "colab": {
          "base_uri": "https://localhost:8080/",
          "height": 238
        },
        "id": "73Cks10ncYzQ",
        "outputId": "b64e93af-ba94-446e-dd53-0f36c5bfb62c"
      },
      "source": [
        "data.corr(method ='pearson')"
      ],
      "execution_count": 81,
      "outputs": [
        {
          "output_type": "execute_result",
          "data": {
            "text/html": [
              "<div>\n",
              "<style scoped>\n",
              "    .dataframe tbody tr th:only-of-type {\n",
              "        vertical-align: middle;\n",
              "    }\n",
              "\n",
              "    .dataframe tbody tr th {\n",
              "        vertical-align: top;\n",
              "    }\n",
              "\n",
              "    .dataframe thead th {\n",
              "        text-align: right;\n",
              "    }\n",
              "</style>\n",
              "<table border=\"1\" class=\"dataframe\">\n",
              "  <thead>\n",
              "    <tr style=\"text-align: right;\">\n",
              "      <th></th>\n",
              "      <th>year</th>\n",
              "      <th>score</th>\n",
              "      <th>votes</th>\n",
              "      <th>budget</th>\n",
              "      <th>gross</th>\n",
              "      <th>runtime</th>\n",
              "    </tr>\n",
              "  </thead>\n",
              "  <tbody>\n",
              "    <tr>\n",
              "      <th>year</th>\n",
              "      <td>1.000000</td>\n",
              "      <td>0.057013</td>\n",
              "      <td>0.206021</td>\n",
              "      <td>0.327722</td>\n",
              "      <td>0.274321</td>\n",
              "      <td>0.075077</td>\n",
              "    </tr>\n",
              "    <tr>\n",
              "      <th>score</th>\n",
              "      <td>0.057013</td>\n",
              "      <td>1.000000</td>\n",
              "      <td>0.455808</td>\n",
              "      <td>0.066443</td>\n",
              "      <td>0.211973</td>\n",
              "      <td>0.394589</td>\n",
              "    </tr>\n",
              "    <tr>\n",
              "      <th>votes</th>\n",
              "      <td>0.206021</td>\n",
              "      <td>0.455808</td>\n",
              "      <td>1.000000</td>\n",
              "      <td>0.439675</td>\n",
              "      <td>0.614751</td>\n",
              "      <td>0.352303</td>\n",
              "    </tr>\n",
              "    <tr>\n",
              "      <th>budget</th>\n",
              "      <td>0.327722</td>\n",
              "      <td>0.066443</td>\n",
              "      <td>0.439675</td>\n",
              "      <td>1.000000</td>\n",
              "      <td>0.740247</td>\n",
              "      <td>0.318695</td>\n",
              "    </tr>\n",
              "    <tr>\n",
              "      <th>gross</th>\n",
              "      <td>0.274321</td>\n",
              "      <td>0.211973</td>\n",
              "      <td>0.614751</td>\n",
              "      <td>0.740247</td>\n",
              "      <td>1.000000</td>\n",
              "      <td>0.275796</td>\n",
              "    </tr>\n",
              "    <tr>\n",
              "      <th>runtime</th>\n",
              "      <td>0.075077</td>\n",
              "      <td>0.394589</td>\n",
              "      <td>0.352303</td>\n",
              "      <td>0.318695</td>\n",
              "      <td>0.275796</td>\n",
              "      <td>1.000000</td>\n",
              "    </tr>\n",
              "  </tbody>\n",
              "</table>\n",
              "</div>"
            ],
            "text/plain": [
              "             year     score     votes    budget     gross   runtime\n",
              "year     1.000000  0.057013  0.206021  0.327722  0.274321  0.075077\n",
              "score    0.057013  1.000000  0.455808  0.066443  0.211973  0.394589\n",
              "votes    0.206021  0.455808  1.000000  0.439675  0.614751  0.352303\n",
              "budget   0.327722  0.066443  0.439675  1.000000  0.740247  0.318695\n",
              "gross    0.274321  0.211973  0.614751  0.740247  1.000000  0.275796\n",
              "runtime  0.075077  0.394589  0.352303  0.318695  0.275796  1.000000"
            ]
          },
          "metadata": {},
          "execution_count": 81
        }
      ]
    },
    {
      "cell_type": "code",
      "metadata": {
        "colab": {
          "base_uri": "https://localhost:8080/",
          "height": 238
        },
        "id": "OLOevFjhciUJ",
        "outputId": "13f60a74-da0d-4686-a00a-67a00bf97e56"
      },
      "source": [
        "data.corr(method ='kendall')"
      ],
      "execution_count": 82,
      "outputs": [
        {
          "output_type": "execute_result",
          "data": {
            "text/html": [
              "<div>\n",
              "<style scoped>\n",
              "    .dataframe tbody tr th:only-of-type {\n",
              "        vertical-align: middle;\n",
              "    }\n",
              "\n",
              "    .dataframe tbody tr th {\n",
              "        vertical-align: top;\n",
              "    }\n",
              "\n",
              "    .dataframe thead th {\n",
              "        text-align: right;\n",
              "    }\n",
              "</style>\n",
              "<table border=\"1\" class=\"dataframe\">\n",
              "  <thead>\n",
              "    <tr style=\"text-align: right;\">\n",
              "      <th></th>\n",
              "      <th>year</th>\n",
              "      <th>score</th>\n",
              "      <th>votes</th>\n",
              "      <th>budget</th>\n",
              "      <th>gross</th>\n",
              "      <th>runtime</th>\n",
              "    </tr>\n",
              "  </thead>\n",
              "  <tbody>\n",
              "    <tr>\n",
              "      <th>year</th>\n",
              "      <td>1.000000</td>\n",
              "      <td>0.044956</td>\n",
              "      <td>0.296512</td>\n",
              "      <td>0.220833</td>\n",
              "      <td>0.239539</td>\n",
              "      <td>0.064824</td>\n",
              "    </tr>\n",
              "    <tr>\n",
              "      <th>score</th>\n",
              "      <td>0.044956</td>\n",
              "      <td>1.000000</td>\n",
              "      <td>0.369110</td>\n",
              "      <td>-0.006778</td>\n",
              "      <td>0.135035</td>\n",
              "      <td>0.307368</td>\n",
              "    </tr>\n",
              "    <tr>\n",
              "      <th>votes</th>\n",
              "      <td>0.296512</td>\n",
              "      <td>0.369110</td>\n",
              "      <td>1.000000</td>\n",
              "      <td>0.346274</td>\n",
              "      <td>0.553625</td>\n",
              "      <td>0.205344</td>\n",
              "    </tr>\n",
              "    <tr>\n",
              "      <th>budget</th>\n",
              "      <td>0.220833</td>\n",
              "      <td>-0.006778</td>\n",
              "      <td>0.346274</td>\n",
              "      <td>1.000000</td>\n",
              "      <td>0.512057</td>\n",
              "      <td>0.231278</td>\n",
              "    </tr>\n",
              "    <tr>\n",
              "      <th>gross</th>\n",
              "      <td>0.239539</td>\n",
              "      <td>0.135035</td>\n",
              "      <td>0.553625</td>\n",
              "      <td>0.512057</td>\n",
              "      <td>1.000000</td>\n",
              "      <td>0.176979</td>\n",
              "    </tr>\n",
              "    <tr>\n",
              "      <th>runtime</th>\n",
              "      <td>0.064824</td>\n",
              "      <td>0.307368</td>\n",
              "      <td>0.205344</td>\n",
              "      <td>0.231278</td>\n",
              "      <td>0.176979</td>\n",
              "      <td>1.000000</td>\n",
              "    </tr>\n",
              "  </tbody>\n",
              "</table>\n",
              "</div>"
            ],
            "text/plain": [
              "             year     score     votes    budget     gross   runtime\n",
              "year     1.000000  0.044956  0.296512  0.220833  0.239539  0.064824\n",
              "score    0.044956  1.000000  0.369110 -0.006778  0.135035  0.307368\n",
              "votes    0.296512  0.369110  1.000000  0.346274  0.553625  0.205344\n",
              "budget   0.220833 -0.006778  0.346274  1.000000  0.512057  0.231278\n",
              "gross    0.239539  0.135035  0.553625  0.512057  1.000000  0.176979\n",
              "runtime  0.064824  0.307368  0.205344  0.231278  0.176979  1.000000"
            ]
          },
          "metadata": {},
          "execution_count": 82
        }
      ]
    },
    {
      "cell_type": "code",
      "metadata": {
        "colab": {
          "base_uri": "https://localhost:8080/",
          "height": 238
        },
        "id": "sRXJh9Locoi-",
        "outputId": "26d6993d-d54a-4daf-82ef-0ed3bdfbbdd8"
      },
      "source": [
        "data.corr(method ='spearman')"
      ],
      "execution_count": 83,
      "outputs": [
        {
          "output_type": "execute_result",
          "data": {
            "text/html": [
              "<div>\n",
              "<style scoped>\n",
              "    .dataframe tbody tr th:only-of-type {\n",
              "        vertical-align: middle;\n",
              "    }\n",
              "\n",
              "    .dataframe tbody tr th {\n",
              "        vertical-align: top;\n",
              "    }\n",
              "\n",
              "    .dataframe thead th {\n",
              "        text-align: right;\n",
              "    }\n",
              "</style>\n",
              "<table border=\"1\" class=\"dataframe\">\n",
              "  <thead>\n",
              "    <tr style=\"text-align: right;\">\n",
              "      <th></th>\n",
              "      <th>year</th>\n",
              "      <th>score</th>\n",
              "      <th>votes</th>\n",
              "      <th>budget</th>\n",
              "      <th>gross</th>\n",
              "      <th>runtime</th>\n",
              "    </tr>\n",
              "  </thead>\n",
              "  <tbody>\n",
              "    <tr>\n",
              "      <th>year</th>\n",
              "      <td>1.000000</td>\n",
              "      <td>0.059407</td>\n",
              "      <td>0.427623</td>\n",
              "      <td>0.312886</td>\n",
              "      <td>0.351045</td>\n",
              "      <td>0.095444</td>\n",
              "    </tr>\n",
              "    <tr>\n",
              "      <th>score</th>\n",
              "      <td>0.059407</td>\n",
              "      <td>1.000000</td>\n",
              "      <td>0.474519</td>\n",
              "      <td>-0.009156</td>\n",
              "      <td>0.178342</td>\n",
              "      <td>0.393549</td>\n",
              "    </tr>\n",
              "    <tr>\n",
              "      <th>votes</th>\n",
              "      <td>0.427623</td>\n",
              "      <td>0.474519</td>\n",
              "      <td>1.000000</td>\n",
              "      <td>0.493461</td>\n",
              "      <td>0.745793</td>\n",
              "      <td>0.300621</td>\n",
              "    </tr>\n",
              "    <tr>\n",
              "      <th>budget</th>\n",
              "      <td>0.312886</td>\n",
              "      <td>-0.009156</td>\n",
              "      <td>0.493461</td>\n",
              "      <td>1.000000</td>\n",
              "      <td>0.692958</td>\n",
              "      <td>0.330794</td>\n",
              "    </tr>\n",
              "    <tr>\n",
              "      <th>gross</th>\n",
              "      <td>0.351045</td>\n",
              "      <td>0.178342</td>\n",
              "      <td>0.745793</td>\n",
              "      <td>0.692958</td>\n",
              "      <td>1.000000</td>\n",
              "      <td>0.257400</td>\n",
              "    </tr>\n",
              "    <tr>\n",
              "      <th>runtime</th>\n",
              "      <td>0.095444</td>\n",
              "      <td>0.393549</td>\n",
              "      <td>0.300621</td>\n",
              "      <td>0.330794</td>\n",
              "      <td>0.257400</td>\n",
              "      <td>1.000000</td>\n",
              "    </tr>\n",
              "  </tbody>\n",
              "</table>\n",
              "</div>"
            ],
            "text/plain": [
              "             year     score     votes    budget     gross   runtime\n",
              "year     1.000000  0.059407  0.427623  0.312886  0.351045  0.095444\n",
              "score    0.059407  1.000000  0.474519 -0.009156  0.178342  0.393549\n",
              "votes    0.427623  0.474519  1.000000  0.493461  0.745793  0.300621\n",
              "budget   0.312886 -0.009156  0.493461  1.000000  0.692958  0.330794\n",
              "gross    0.351045  0.178342  0.745793  0.692958  1.000000  0.257400\n",
              "runtime  0.095444  0.393549  0.300621  0.330794  0.257400  1.000000"
            ]
          },
          "metadata": {},
          "execution_count": 83
        }
      ]
    },
    {
      "cell_type": "markdown",
      "metadata": {
        "id": "p_rwhiD3jycs"
      },
      "source": [
        "**Data Visualization of the Correlation Matrix**"
      ]
    },
    {
      "cell_type": "code",
      "metadata": {
        "colab": {
          "base_uri": "https://localhost:8080/",
          "height": 517
        },
        "id": "Ce1DRTTtcu0B",
        "outputId": "11171352-6a9d-4735-f73a-6c3a23fd40b5"
      },
      "source": [
        "correlation_matrix = data.corr()\n",
        "\n",
        "sns.heatmap(correlation_matrix, annot = True)\n",
        "\n",
        "plt.title(\"Correlation matrix for Numeric Features\")\n",
        "\n",
        "plt.xlabel(\"Movie features\")\n",
        "\n",
        "plt.ylabel(\"Movie features\")\n",
        "\n",
        "plt.show()"
      ],
      "execution_count": 96,
      "outputs": [
        {
          "output_type": "display_data",
          "data": {
            "image/png": "[encoded data removed]",
            "text/plain": [
              "<Figure size 864x576 with 2 Axes>"
            ]
          },
          "metadata": {
            "needs_background": "light"
          }
        }
      ]
    }
  ]
}